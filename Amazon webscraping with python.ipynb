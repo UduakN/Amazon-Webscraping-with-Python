{
 "cells": [
  {
   "cell_type": "code",
   "execution_count": 1,
   "id": "c753bf22",
   "metadata": {},
   "outputs": [],
   "source": [
    "# Importing libraries\n",
    "import csv\n",
    "from bs4 import BeautifulSoup\n",
    "from selenium import webdriver"
   ]
  },
  {
   "cell_type": "code",
   "execution_count": 2,
   "id": "16e3a547",
   "metadata": {},
   "outputs": [],
   "source": [
    "# Startup webdriver\n",
    "driver = webdriver.Chrome()"
   ]
  },
  {
   "cell_type": "code",
   "execution_count": 3,
   "id": "59a27c16",
   "metadata": {},
   "outputs": [],
   "source": [
    "# Connecting and Pulling search result\n",
    "url = 'https://www.amazon.com/'\n",
    "driver.get(url)"
   ]
  },
  {
   "cell_type": "code",
   "execution_count": 4,
   "id": "7d3814b6",
   "metadata": {},
   "outputs": [],
   "source": [
    "def get_url(search_term):\n",
    "    \"\"\"\"Generate a url from term\"\"\"\n",
    "    template = 'https://www.amazon.com/s?k={}&ref=nb_sb_noss_2'\n",
    "    search_term = search_term.replace(' ','+')\n",
    "    return template.format(search_term)"
   ]
  },
  {
   "cell_type": "code",
   "execution_count": 5,
   "id": "dd1bdb10",
   "metadata": {},
   "outputs": [
    {
     "name": "stdout",
     "output_type": "stream",
     "text": [
      "https://www.amazon.com/s?k=mouse&ref=nb_sb_noss_2\n"
     ]
    }
   ],
   "source": [
    "url = get_url('mouse')\n",
    "print(url)"
   ]
  },
  {
   "cell_type": "code",
   "execution_count": 6,
   "id": "b8cec885",
   "metadata": {},
   "outputs": [],
   "source": [
    "driver.get(url)"
   ]
  },
  {
   "cell_type": "code",
   "execution_count": 7,
   "id": "ba3281ce",
   "metadata": {},
   "outputs": [],
   "source": [
    "soup = BeautifulSoup(driver.page_source, 'html.parser')\n",
    "results = soup.find_all('div', {'data-component-type': 's-search-result'})"
   ]
  },
  {
   "cell_type": "code",
   "execution_count": 8,
   "id": "77e18cbb",
   "metadata": {},
   "outputs": [],
   "source": [
    "# Initializing the records list outside the loop\n",
    "record = []"
   ]
  },
  {
   "cell_type": "code",
   "execution_count": 9,
   "id": "e192886a",
   "metadata": {},
   "outputs": [
    {
     "data": {
      "text/plain": [
       "22"
      ]
     },
     "execution_count": 9,
     "metadata": {},
     "output_type": "execute_result"
    }
   ],
   "source": [
    "len(results)"
   ]
  },
  {
   "cell_type": "code",
   "execution_count": 10,
   "id": "7cf917e0",
   "metadata": {},
   "outputs": [
    {
     "data": {
      "text/plain": [
       "'Amazon Basics Wireless Computer Mouse with USB Nano Receiver - Black'"
      ]
     },
     "execution_count": 10,
     "metadata": {},
     "output_type": "execute_result"
    }
   ],
   "source": [
    "# Pulling description\n",
    "item = results[0]\n",
    "atag = item.h2.a\n",
    "atag.text.strip()"
   ]
  },
  {
   "cell_type": "code",
   "execution_count": 11,
   "id": "75aafc4c",
   "metadata": {},
   "outputs": [],
   "source": [
    "description = atag.text.strip()"
   ]
  },
  {
   "cell_type": "code",
   "execution_count": 12,
   "id": "d812b4b3",
   "metadata": {},
   "outputs": [
    {
     "data": {
      "text/plain": [
       "'/sspa/click?ie=UTF8&spc=MTo4NTk1MTI0OTIzMDI1NTk1OjE2OTI0NDY5MTA6c3BfYXRmOjIwMDAxMDUxMDcyNTkzMTo6MDo6&url=%2FAmazonBasics-Wireless-Computer-Mouse-Receiver%2Fdp%2FB005EJH6Z4%2Fref%3Dsr_1_1_ffob_sspa%3Fkeywords%3Dmouse%26qid%3D1692446910%26sr%3D8-1-spons%26sp_csd%3Dd2lkZ2V0TmFtZT1zcF9hdGY%26psc%3D1'"
      ]
     },
     "execution_count": 12,
     "metadata": {},
     "output_type": "execute_result"
    }
   ],
   "source": [
    "# Pulling URL\n",
    "atag.get('href')"
   ]
  },
  {
   "cell_type": "code",
   "execution_count": 13,
   "id": "d875bfe1",
   "metadata": {},
   "outputs": [],
   "source": [
    "url = 'https://www.amazon.com' + atag.get('href')"
   ]
  },
  {
   "cell_type": "code",
   "execution_count": 14,
   "id": "f87701f2",
   "metadata": {},
   "outputs": [
    {
     "data": {
      "text/plain": [
       "<span class=\"a-offscreen\">$9.99</span>"
      ]
     },
     "execution_count": 14,
     "metadata": {},
     "output_type": "execute_result"
    }
   ],
   "source": [
    "# Pulling price\n",
    "price_parent = item.find('span', 'a-price')\n",
    "price_parent.find('span', 'a-offscreen')"
   ]
  },
  {
   "cell_type": "code",
   "execution_count": 15,
   "id": "3547ddb4",
   "metadata": {},
   "outputs": [],
   "source": [
    "price = price_parent.find('span', 'a-offscreen').text"
   ]
  },
  {
   "cell_type": "code",
   "execution_count": 16,
   "id": "789c06a9",
   "metadata": {},
   "outputs": [
    {
     "data": {
      "text/plain": [
       "'4.5 out of 5 stars'"
      ]
     },
     "execution_count": 16,
     "metadata": {},
     "output_type": "execute_result"
    }
   ],
   "source": [
    "# Pulling rating\n",
    "item.i.text"
   ]
  },
  {
   "cell_type": "code",
   "execution_count": 17,
   "id": "b660b11e",
   "metadata": {},
   "outputs": [],
   "source": [
    "rating = item.i.text"
   ]
  },
  {
   "cell_type": "code",
   "execution_count": 18,
   "id": "549cccca",
   "metadata": {},
   "outputs": [
    {
     "name": "stdout",
     "output_type": "stream",
     "text": [
      "2023-08-19\n"
     ]
    }
   ],
   "source": [
    "# Timastamp to show when data was extracted\n",
    "import datetime\n",
    "\n",
    "today =datetime.date.today()\n",
    "\n",
    "print(today)"
   ]
  },
  {
   "cell_type": "markdown",
   "id": "a25b5e1f",
   "metadata": {},
   "source": [
    "## Combining all columns and extracting multiple data"
   ]
  },
  {
   "cell_type": "code",
   "execution_count": 19,
   "id": "7653d0dd",
   "metadata": {},
   "outputs": [],
   "source": [
    "def get_url(search_term):\n",
    "    \"\"\"Generate a url from term\"\"\"\n",
    "    template = 'https://www.amazon.com/s?k={}&ref=nb_sb_noss_2'\n",
    "    search_term = search_term.replace(' ','+')\n",
    "    \n",
    "    # add term queryto url\n",
    "    url = template.format(search_term)\n",
    "    \n",
    "    # add page query placeholder\n",
    "    url += '&page{}'\n",
    "    \n",
    "    return url\n",
    "\n",
    "def extract_record(item):\n",
    "    \"\"\"Extract and return data from a single record\"\"\"\n",
    "\n",
    "    # description and url\n",
    "    atag = item.h2.a\n",
    "    description = atag.text.strip()\n",
    "    url = 'https://www.amazon.com' + atag.get('href')\n",
    "\n",
    "    # price\n",
    "    price_parent = item.find('span', 'a-price')\n",
    "    if price_parent:\n",
    "        price = price_parent.find('span', 'a-offscreen').text\n",
    "    else:\n",
    "        price = 'N/A'\n",
    "\n",
    "    # rank and timestamp\n",
    "    rating = item.i.text\n",
    "    \n",
    "    today = datetime.date.today()\n",
    "    \n",
    "    \n",
    "        \n",
    "    result =(description, price, rating, today, url)\n",
    "\n",
    "    return result\n",
    "\n",
    "\n",
    "\n",
    "        "
   ]
  },
  {
   "cell_type": "code",
   "execution_count": 20,
   "id": "c953b622",
   "metadata": {},
   "outputs": [],
   "source": [
    "records = []"
   ]
  },
  {
   "cell_type": "code",
   "execution_count": 21,
   "id": "477646a7",
   "metadata": {},
   "outputs": [],
   "source": [
    " def main(search_term):\n",
    "    \"\"\"Run main program routine\"\"\"\n",
    "    # startup the webdriver\n",
    "    driver = webdriver.Chrome()\n",
    "    \n",
    " \n",
    "    url = get_url(search_term)\n",
    "    \n",
    "    for page in range(1, 23):\n",
    "        driver.get(url.format(page))\n",
    "        soup = BeautifulSoup(driver.page_source, 'html.parser')\n",
    "        results = soup.find_all('div', {'data-component-type': 's-search-result'})\n",
    "    for item in results:\n",
    "            record = extract_record(item)\n",
    "            if record:\n",
    "                records.append(record)\n",
    "                \n",
    "    driver.close()\n",
    "    \n",
    "    # Saving data to csv file\n",
    "    with open('Amazonwebscrapresult.csv','w', newline='', encoding='utf-8') as f:\n",
    "        writer = csv.writer(f)\n",
    "        writer.writerow(['Description', 'Price', 'Rating', 'Time','Url'])\n",
    "        writer.writerows(records)"
   ]
  },
  {
   "cell_type": "code",
   "execution_count": 22,
   "id": "a31baa19",
   "metadata": {},
   "outputs": [],
   "source": [
    "main('mouse')"
   ]
  },
  {
   "cell_type": "code",
   "execution_count": 23,
   "id": "f19167f8",
   "metadata": {},
   "outputs": [
    {
     "name": "stdout",
     "output_type": "stream",
     "text": [
      "                                          Description   Price  \\\n",
      "0   E-YOOSO Wireless Mouse, Computer Mouse 18 Mont...  $11.99   \n",
      "1   Trueque Wireless Mouse for Laptop, 2.4GHz Ergo...  $11.99   \n",
      "2   TECKNET Wireless Mouse, 2.4G Ergonomic Optical...   $9.59   \n",
      "3   Razer DeathAdder Essential Gaming Mouse: 6400 ...  $24.99   \n",
      "4   Logitech M705 Marathon Wireless Mouse, 2.4 GHz...  $34.80   \n",
      "5   Logitech MX Master 2S Wireless Mouse – Use on ...  $66.99   \n",
      "6   TedGem Wireless Mouse for Laptop, 2.4GHz Porta...   $8.99   \n",
      "7   Logitech M185 Wireless Mouse, 2.4GHz with USB ...  $13.92   \n",
      "8   Glorious Gaming - Model O Wireless RGB Mouse w...  $79.99   \n",
      "9   Lizsword Wired Gaming Mouse, PC Gaming Mice [B...  $14.98   \n",
      "10  Logitech MX Master 3S - Wireless Performance M...  $91.98   \n",
      "11  Wireless Keyboard Mouse Combo, RaceGT Energy S...  $19.99   \n",
      "12  Vssoplor Wireless Mouse, 2.4G Slim Portable Co...  $10.97   \n",
      "13  HOTWEEMS Wireless D-09 Computer Mouse USB Cord...   $7.89   \n",
      "14  TECKNET Bluetooth Wireless Mouse, 3 Modes Blue...  $15.99   \n",
      "15  Redragon M612 Predator RGB Gaming Mouse, 8000 ...  $19.99   \n",
      "16  RisoPhy Wireless Gaming Mouse,Tri-Mode 2.4G/US...  $24.99   \n",
      "17  Logitech Lift Vertical Ergonomic Mouse, Wirele...  $66.99   \n",
      "18  Amazon Basics Wireless Computer Mouse with USB...   $9.99   \n",
      "19  Trueque Wireless Mouse E702 2.4GHz Portable Co...   $8.99   \n",
      "20  HOTLIFE LED Wireless Mouse, Slim Rechargeable ...  $10.99   \n",
      "21  Redragon Gaming Mouse, Wired Gaming Mouse with...  $19.99   \n",
      "\n",
      "                Rating        Time  \\\n",
      "0   4.5 out of 5 stars  2023-08-19   \n",
      "1   4.5 out of 5 stars  2023-08-19   \n",
      "2   4.5 out of 5 stars  2023-08-19   \n",
      "3   4.5 out of 5 stars  2023-08-19   \n",
      "4   4.6 out of 5 stars  2023-08-19   \n",
      "5   4.6 out of 5 stars  2023-08-19   \n",
      "6   4.5 out of 5 stars  2023-08-19   \n",
      "7   4.6 out of 5 stars  2023-08-19   \n",
      "8   4.6 out of 5 stars  2023-08-19   \n",
      "9   4.5 out of 5 stars  2023-08-19   \n",
      "10  4.6 out of 5 stars  2023-08-19   \n",
      "11  4.3 out of 5 stars  2023-08-19   \n",
      "12  4.6 out of 5 stars  2023-08-19   \n",
      "13  4.5 out of 5 stars  2023-08-19   \n",
      "14  4.5 out of 5 stars  2023-08-19   \n",
      "15  4.6 out of 5 stars  2023-08-19   \n",
      "16  4.5 out of 5 stars  2023-08-19   \n",
      "17  4.6 out of 5 stars  2023-08-19   \n",
      "18  4.5 out of 5 stars  2023-08-19   \n",
      "19  4.6 out of 5 stars  2023-08-19   \n",
      "20  4.4 out of 5 stars  2023-08-19   \n",
      "21  4.6 out of 5 stars  2023-08-19   \n",
      "\n",
      "                                                  Url  \n",
      "0   https://www.amazon.com/sspa/click?ie=UTF8&spc=...  \n",
      "1   https://www.amazon.com/sspa/click?ie=UTF8&spc=...  \n",
      "2   https://www.amazon.com/TeckNet-Ergonomic-Wirel...  \n",
      "3   https://www.amazon.com/Razer-DeathAdder-Essent...  \n",
      "4   https://www.amazon.com/Logitech-M705-Wireless-...  \n",
      "5   https://www.amazon.com/Logitech-Master-Wireles...  \n",
      "6   https://www.amazon.com/sspa/click?ie=UTF8&spc=...  \n",
      "7   https://www.amazon.com/Logitech-M185-Wireless-...  \n",
      "8   https://www.amazon.com/Glorious-Model-Wireless...  \n",
      "9   https://www.amazon.com/Lizsword-Breathing-High...  \n",
      "10  https://www.amazon.com/Logitech-Master-Perform...  \n",
      "11  https://www.amazon.com/sspa/click?ie=UTF8&spc=...  \n",
      "12  https://www.amazon.com/Wireless-Vssoplor-Porta...  \n",
      "13  https://www.amazon.com/HOTWEEMS-D-09-Wireless-...  \n",
      "14  https://www.amazon.com/Bluetooth-Wireless-Teck...  \n",
      "15  https://www.amazon.com/Redragon-M612-Predator-...  \n",
      "16  https://www.amazon.com/sspa/click?ie=UTF8&spc=...  \n",
      "17  https://www.amazon.com/Logitech-Vertical-Ergon...  \n",
      "18  https://www.amazon.com/AmazonBasics-Wireless-C...  \n",
      "19  https://www.amazon.com/Wireless-Trueque-E702-C...  \n",
      "20  https://www.amazon.com/Wireless-Rechargeable-B...  \n",
      "21  https://www.amazon.com/sspa/click?ie=UTF8&spc=...  \n"
     ]
    }
   ],
   "source": [
    "# Viewing Results\n",
    "\n",
    "import pandas as pd\n",
    "\n",
    "df = pd.read_csv(r'C:\\Users\\unjoku\\Amazonwebscrapresult.csv')\n",
    "\n",
    "print(df)"
   ]
  },
  {
   "cell_type": "code",
   "execution_count": null,
   "id": "5356856e",
   "metadata": {},
   "outputs": [],
   "source": []
  }
 ],
 "metadata": {
  "kernelspec": {
   "display_name": "Python 3",
   "language": "python",
   "name": "python3"
  },
  "language_info": {
   "codemirror_mode": {
    "name": "ipython",
    "version": 3
   },
   "file_extension": ".py",
   "mimetype": "text/x-python",
   "name": "python",
   "nbconvert_exporter": "python",
   "pygments_lexer": "ipython3",
   "version": "3.8.8"
  }
 },
 "nbformat": 4,
 "nbformat_minor": 5
}
